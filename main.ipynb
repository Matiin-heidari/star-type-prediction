{
 "cells": [
  {
   "cell_type": "code",
   "execution_count": null,
   "id": "3b967a3e",
   "metadata": {},
   "outputs": [],
   "source": [
    "import pandas as pd\n",
    "import numpy as np\n",
    "import itertools\n",
    "\n",
    "from sklearn.pipeline import Pipeline\n",
    "from sklearn.compose import ColumnTransformer\n",
    "from sklearn.metrics import (\n",
    "    accuracy_score, precision_score, recall_score, f1_score, roc_auc_score,\n",
    "    confusion_matrix, ConfusionMatrixDisplay, classification_report\n",
    ")\n",
    "from sklearn.model_selection import (\n",
    "    learning_curve, validation_curve, train_test_split, StratifiedKFold,\n",
    "    RandomizedSearchCV, cross_validate, RepeatedStratifiedKFold\n",
    ")\n",
    "from sklearn.linear_model import LogisticRegression\n",
    "from sklearn.neighbors import KNeighborsClassifier\n",
    "from sklearn.tree import DecisionTreeClassifier\n",
    "from sklearn.ensemble import RandomForestClassifier, GradientBoostingClassifier\n",
    "from sklearn.impute import SimpleImputer\n",
    "from sklearn.preprocessing import StandardScaler, OneHotEncoder, FunctionTransformer\n",
    "from scipy.stats import loguniform\n",
    "from sklearn.decomposition import PCA\n",
    "from imblearn.pipeline import Pipeline as Imbpipeline\n",
    "from imblearn.over_sampling import SMOTE\n",
    "\n",
    "# Import XGBoost\n",
    "from xgboost import XGBClassifier\n",
    "\n",
    "import matplotlib.pyplot as plt"
   ]
  },
  {
   "cell_type": "markdown",
   "id": "8c42f777",
   "metadata": {},
   "source": [
    "# Loading the data"
   ]
  },
  {
   "cell_type": "code",
   "execution_count": 64,
   "id": "9403fbce",
   "metadata": {},
   "outputs": [],
   "source": [
    "df = pd.read_csv('Stars.csv')\n",
    "\n",
    "# The target variable is 'Star type'\n",
    "X = df.drop('Type', axis=1)\n",
    "y = df['Type']"
   ]
  },
  {
   "cell_type": "markdown",
   "id": "388b00a2",
   "metadata": {},
   "source": [
    "Dataset Shape:"
   ]
  },
  {
   "cell_type": "code",
   "execution_count": 65,
   "id": "f15cf516",
   "metadata": {},
   "outputs": [
    {
     "data": {
      "text/plain": [
       "(240, 6)"
      ]
     },
     "execution_count": 65,
     "metadata": {},
     "output_type": "execute_result"
    }
   ],
   "source": [
    "X.shape"
   ]
  },
  {
   "cell_type": "markdown",
   "id": "e93c102d",
   "metadata": {},
   "source": [
    "Dataset Top 5 rows:"
   ]
  },
  {
   "cell_type": "code",
   "execution_count": 68,
   "id": "34ed194e",
   "metadata": {},
   "outputs": [
    {
     "name": "stdout",
     "output_type": "stream",
     "text": [
      "   Temperature         L       R    A_M Color Spectral_Class  Type\n",
      "0         3068  0.002400  0.1700  16.12   Red              M     0\n",
      "1         3042  0.000500  0.1542  16.60   Red              M     0\n",
      "2         2600  0.000300  0.1020  18.70   Red              M     0\n",
      "3         2800  0.000200  0.1600  16.65   Red              M     0\n",
      "4         1939  0.000138  0.1030  20.06   Red              M     0\n"
     ]
    }
   ],
   "source": [
    "print(df.head())"
   ]
  },
  {
   "cell_type": "markdown",
   "id": "112e92ab",
   "metadata": {},
   "source": [
    "Target variable distribution (Star Type):"
   ]
  },
  {
   "cell_type": "code",
   "execution_count": 69,
   "id": "0ad04f55",
   "metadata": {},
   "outputs": [
    {
     "data": {
      "text/plain": [
       "Type\n",
       "0    40\n",
       "1    40\n",
       "2    40\n",
       "3    40\n",
       "4    40\n",
       "5    40\n",
       "Name: count, dtype: int64"
      ]
     },
     "execution_count": 69,
     "metadata": {},
     "output_type": "execute_result"
    }
   ],
   "source": [
    "y.value_counts().sort_index()"
   ]
  },
  {
   "cell_type": "markdown",
   "id": "f5772b1a",
   "metadata": {},
   "source": [
    "Number of classes:"
   ]
  },
  {
   "cell_type": "code",
   "execution_count": 70,
   "id": "6971a596",
   "metadata": {},
   "outputs": [
    {
     "data": {
      "text/plain": [
       "6"
      ]
     },
     "execution_count": 70,
     "metadata": {},
     "output_type": "execute_result"
    }
   ],
   "source": [
    "y.nunique()"
   ]
  },
  {
   "cell_type": "markdown",
   "id": "39fc7ebb",
   "metadata": {},
   "source": [
    "# Preprocessing"
   ]
  },
  {
   "cell_type": "markdown",
   "id": "4fca58bd",
   "metadata": {},
   "source": [
    "Descriptive Statistics for Numerical Features:"
   ]
  },
  {
   "cell_type": "code",
   "execution_count": 71,
   "id": "4e775363",
   "metadata": {},
   "outputs": [
    {
     "data": {
      "text/html": [
       "<div>\n",
       "<style scoped>\n",
       "    .dataframe tbody tr th:only-of-type {\n",
       "        vertical-align: middle;\n",
       "    }\n",
       "\n",
       "    .dataframe tbody tr th {\n",
       "        vertical-align: top;\n",
       "    }\n",
       "\n",
       "    .dataframe thead th {\n",
       "        text-align: right;\n",
       "    }\n",
       "</style>\n",
       "<table border=\"1\" class=\"dataframe\">\n",
       "  <thead>\n",
       "    <tr style=\"text-align: right;\">\n",
       "      <th></th>\n",
       "      <th>Temperature</th>\n",
       "      <th>L</th>\n",
       "      <th>R</th>\n",
       "      <th>A_M</th>\n",
       "    </tr>\n",
       "  </thead>\n",
       "  <tbody>\n",
       "    <tr>\n",
       "      <th>count</th>\n",
       "      <td>240.000000</td>\n",
       "      <td>240.000000</td>\n",
       "      <td>240.000000</td>\n",
       "      <td>240.000000</td>\n",
       "    </tr>\n",
       "    <tr>\n",
       "      <th>mean</th>\n",
       "      <td>10497.462500</td>\n",
       "      <td>107188.361635</td>\n",
       "      <td>237.157781</td>\n",
       "      <td>4.382396</td>\n",
       "    </tr>\n",
       "    <tr>\n",
       "      <th>std</th>\n",
       "      <td>9552.425037</td>\n",
       "      <td>179432.244940</td>\n",
       "      <td>517.155763</td>\n",
       "      <td>10.532512</td>\n",
       "    </tr>\n",
       "    <tr>\n",
       "      <th>min</th>\n",
       "      <td>1939.000000</td>\n",
       "      <td>0.000080</td>\n",
       "      <td>0.008400</td>\n",
       "      <td>-11.920000</td>\n",
       "    </tr>\n",
       "    <tr>\n",
       "      <th>25%</th>\n",
       "      <td>3344.250000</td>\n",
       "      <td>0.000865</td>\n",
       "      <td>0.102750</td>\n",
       "      <td>-6.232500</td>\n",
       "    </tr>\n",
       "    <tr>\n",
       "      <th>50%</th>\n",
       "      <td>5776.000000</td>\n",
       "      <td>0.070500</td>\n",
       "      <td>0.762500</td>\n",
       "      <td>8.313000</td>\n",
       "    </tr>\n",
       "    <tr>\n",
       "      <th>75%</th>\n",
       "      <td>15055.500000</td>\n",
       "      <td>198050.000000</td>\n",
       "      <td>42.750000</td>\n",
       "      <td>13.697500</td>\n",
       "    </tr>\n",
       "    <tr>\n",
       "      <th>max</th>\n",
       "      <td>40000.000000</td>\n",
       "      <td>849420.000000</td>\n",
       "      <td>1948.500000</td>\n",
       "      <td>20.060000</td>\n",
       "    </tr>\n",
       "  </tbody>\n",
       "</table>\n",
       "</div>"
      ],
      "text/plain": [
       "        Temperature              L            R         A_M\n",
       "count    240.000000     240.000000   240.000000  240.000000\n",
       "mean   10497.462500  107188.361635   237.157781    4.382396\n",
       "std     9552.425037  179432.244940   517.155763   10.532512\n",
       "min     1939.000000       0.000080     0.008400  -11.920000\n",
       "25%     3344.250000       0.000865     0.102750   -6.232500\n",
       "50%     5776.000000       0.070500     0.762500    8.313000\n",
       "75%    15055.500000  198050.000000    42.750000   13.697500\n",
       "max    40000.000000  849420.000000  1948.500000   20.060000"
      ]
     },
     "execution_count": 71,
     "metadata": {},
     "output_type": "execute_result"
    }
   ],
   "source": [
    "X.describe()"
   ]
  },
  {
   "cell_type": "code",
   "execution_count": 72,
   "id": "2d6bd663",
   "metadata": {},
   "outputs": [
    {
     "name": "stdout",
     "output_type": "stream",
     "text": [
      "\n",
      "Unique values and counts for categorical features:\n",
      "- Color: 17 unique values\n",
      "Color\n",
      "Red                   112\n",
      "Blue                   56\n",
      "Blue-white             26\n",
      "Blue White             10\n",
      "yellow-white            8\n",
      "White                   7\n",
      "Blue white              4\n",
      "white                   3\n",
      "Yellowish White         3\n",
      "Orange                  2\n",
      "Whitish                 2\n",
      "yellowish               2\n",
      "Pale yellow orange      1\n",
      "White-Yellow            1\n",
      "Yellowish               1\n",
      "Orange-Red              1\n",
      "Blue-White              1\n",
      "Name: count, dtype: int64\n",
      "- Spectral_Class: 7 unique values\n",
      "Spectral_Class\n",
      "M    111\n",
      "B     46\n",
      "O     40\n",
      "A     19\n",
      "F     17\n",
      "K      6\n",
      "G      1\n",
      "Name: count, dtype: int64\n"
     ]
    }
   ],
   "source": [
    "print(\"\\nUnique values and counts for categorical features:\")\n",
    "for col in X.select_dtypes(include='object').columns:\n",
    "    print(f\"- {col}: {X[col].nunique()} unique values\")\n",
    "    print(X[col].value_counts())"
   ]
  },
  {
   "cell_type": "code",
   "execution_count": 73,
   "id": "23cac157",
   "metadata": {},
   "outputs": [],
   "source": [
    "numerical_features = ['Temperature', 'L', 'R', 'A_M']\n",
    "categorical_features = ['Color', 'Spectral_Class']"
   ]
  },
  {
   "cell_type": "code",
   "execution_count": 74,
   "id": "f5dde84d",
   "metadata": {},
   "outputs": [],
   "source": [
    "# Function to standardize star color strings (e.g., 'Blue-white' -> 'blue white')\n",
    "def standardize_star_color(df):\n",
    "    df_copy = df.copy()\n",
    "    df_copy['Color'] = df_copy['Color'].str.lower().str.replace('-', ' ').str.strip()\n",
    "    return df_copy"
   ]
  },
  {
   "cell_type": "code",
   "execution_count": 76,
   "id": "0b153288",
   "metadata": {},
   "outputs": [],
   "source": [
    "# Pipeline for numerical features: Imputation (if any, though none expected here) and Scaling\n",
    "numerical_transformer = Pipeline(steps=[\n",
    "    ('imputer', SimpleImputer(strategy='mean')),\n",
    "    ('scaler', StandardScaler())\n",
    "])"
   ]
  },
  {
   "cell_type": "code",
   "execution_count": null,
   "id": "9024d306",
   "metadata": {},
   "outputs": [],
   "source": [
    "# Pipeline for categorical features: Standardizing text, Imputation, and One-Hot Encoding\n",
    "categorical_transformer = Pipeline(steps=[\n",
    "    ('imputer', SimpleImputer(strategy='most_frequent')),\n",
    "    ('onehot', OneHotEncoder(handle_unknown='ignore'))\n",
    "])"
   ]
  },
  {
   "cell_type": "code",
   "execution_count": null,
   "id": "bc190712",
   "metadata": {},
   "outputs": [],
   "source": [
    "preprocessor = ColumnTransformer(\n",
    "    transformers=[\n",
    "        ('num', numerical_transformer, numerical_features),\n",
    "        ('spectral_class', categorical_transformer, ['Spectral_Class']) # Generic categorical for others\n",
    "    ],\n",
    "    remainder='drop',\n",
    "    verbose_feature_names_out=False,\n",
    "    sparse_threshold=0 \n",
    ")"
   ]
  },
  {
   "cell_type": "code",
   "execution_count": null,
   "id": "da167aba",
   "metadata": {},
   "outputs": [
    {
     "name": "stdout",
     "output_type": "stream",
     "text": [
      "\n",
      "Sanity check for initial pipeline:\n",
      "Error during initial pipeline sanity check: A given column is not a column of the dataframe\n"
     ]
    }
   ],
   "source": []
  },
  {
   "cell_type": "code",
   "execution_count": 83,
   "id": "93ec1258",
   "metadata": {},
   "outputs": [],
   "source": [
    "X_train, X_test, y_train, y_test = train_test_split(X, y, test_size=0.2, stratify=y, random_state=42, shuffle=True)"
   ]
  },
  {
   "cell_type": "markdown",
   "id": "f54a2cec",
   "metadata": {},
   "source": [
    "# Model Selection"
   ]
  },
  {
   "cell_type": "code",
   "execution_count": 92,
   "id": "d0f47357",
   "metadata": {},
   "outputs": [],
   "source": [
    "# Initial pipeline structure for nested cross-validation\n",
    "model_pipeline = Imbpipeline([\n",
    "    ('preprocessor', preprocessor),\n",
    "    ('sampler', SMOTE()),\n",
    "    ('dim_reduction', PCA(n_components=0.8)),\n",
    "    ('classifier', LogisticRegression())\n",
    "])"
   ]
  },
  {
   "cell_type": "code",
   "execution_count": 93,
   "id": "efc44c5f",
   "metadata": {},
   "outputs": [
    {
     "name": "stdout",
     "output_type": "stream",
     "text": [
      "\n",
      "Sanity check for initial pipeline:\n",
      "Initial pipeline fit and predict successful.\n"
     ]
    }
   ],
   "source": [
    "print(\"\\nSanity check for initial pipeline:\")\n",
    "try:\n",
    "    model_pipeline.fit(X_train, y_train)\n",
    "    _ = model_pipeline.predict(X_test)\n",
    "    print(\"Initial pipeline fit and predict successful.\")\n",
    "except Exception as e:\n",
    "    print(f\"Error during initial pipeline sanity check: {e}\")"
   ]
  },
  {
   "cell_type": "code",
   "execution_count": 94,
   "id": "11dccdd9",
   "metadata": {},
   "outputs": [],
   "source": [
    "# Define hyperparameter configurations for different classifiers\n",
    "# For multi-class, `class_weight='balanced'` is applicable to some sklearn models.\n",
    "# For XGBoost, `objective='multi:softmax'` and `num_class` are important.\n",
    "sampler_configs = [\n",
    "    {\n",
    "        'sampler':[None],\n",
    "    },\n",
    "    {\n",
    "        'sampler':[SMOTE()],\n",
    "        'sampler__sampling_strategy':['minority', 1.2, 0.9, 0.7]\n",
    "    }\n",
    "]\n",
    "\n",
    "dim_reduction_configs = [\n",
    "    {\n",
    "        'dim_reduction': [None]\n",
    "    },\n",
    "    {\n",
    "        'dim_reduction': [PCA()],\n",
    "        'dim_reduction__n_components': [0.5, 0.7, 0.9]\n",
    "    },\n",
    "]\n",
    "\n",
    "classifier_configs = [\n",
    "    {\n",
    "        'classifier': [LogisticRegression(solver='saga', multi_class='multinomial', max_iter=2000, random_state=42, class_weight='balanced')],\n",
    "        'classifier__C': loguniform(0.001, 100),\n",
    "        'classifier__penalty': ['l1', 'l2']\n",
    "    },\n",
    "    {\n",
    "        'classifier': [KNeighborsClassifier()],\n",
    "        'classifier__n_neighbors': [3, 5, 7, 9, 11],\n",
    "        'classifier__weights': ['uniform', 'distance']\n",
    "    },\n",
    "    {\n",
    "        'classifier': [RandomForestClassifier(random_state=42, class_weight='balanced')],\n",
    "        'classifier__n_estimators': [50, 100, 200, 300],\n",
    "        'classifier__max_depth': [None, 10, 20, 30]\n",
    "    },\n",
    "    {\n",
    "        'classifier': [GradientBoostingClassifier(random_state=42)],\n",
    "        'classifier__n_estimators': [50, 100, 200],\n",
    "        'classifier__learning_rate': [0.01, 0.05, 0.1, 0.2],\n",
    "        'classifier__max_depth': [3, 5, 7]\n",
    "    },\n",
    "    {\n",
    "        'classifier': [DecisionTreeClassifier(random_state=42, class_weight='balanced')],\n",
    "        'classifier__max_depth': [None, 5, 10, 15],\n",
    "        'classifier__min_samples_leaf': [1, 2, 4]\n",
    "    },\n",
    "    {\n",
    "        'classifier': [XGBClassifier(random_state=42, eval_metric='mlogloss', use_label_encoder=False,\n",
    "                                      objective='multi:softmax', num_class=y.nunique())],\n",
    "        'classifier__n_estimators': [50, 100, 200],\n",
    "        'classifier__learning_rate': [0.01, 0.05, 0.1],\n",
    "        'classifier__max_depth': [3, 5, 7],\n",
    "        'classifier__subsample': [0.7, 0.8, 0.9],\n",
    "        'classifier__colsample_bytree': [0.7, 0.8, 0.9],\n",
    "        # For multi-class imbalance in XGBoost, no direct `scale_pos_weight`.\n",
    "        # You'd rely on `f1_weighted` scoring and potentially `min_child_weight`.\n",
    "        # 'classifier__min_child_weight': [1, 5, 10]\n",
    "    }\n",
    "]"
   ]
  },
  {
   "cell_type": "code",
   "execution_count": 95,
   "id": "fc4f688b",
   "metadata": {},
   "outputs": [
    {
     "name": "stdout",
     "output_type": "stream",
     "text": [
      "\n",
      "Number of different base classifier configurations for RandomizedSearchCV: 24\n"
     ]
    }
   ],
   "source": [
    "all_configs = []\n",
    "for sampler_config, dim_reduction_config, classifier_config in itertools.product(sampler_configs, dim_reduction_configs, classifier_configs):\n",
    "    combined_config = {}\n",
    "    combined_config.update(sampler_config)\n",
    "    combined_config.update(dim_reduction_config)\n",
    "    combined_config.update(classifier_config)\n",
    "    all_configs.append(combined_config)\n",
    "\n",
    "print(f\"\\nNumber of different base classifier configurations for RandomizedSearchCV: {len(all_configs)}\")"
   ]
  },
  {
   "cell_type": "code",
   "execution_count": 96,
   "id": "39776906",
   "metadata": {},
   "outputs": [
    {
     "name": "stdout",
     "output_type": "stream",
     "text": [
      "\n",
      "Number of different base classifier configurations for RandomizedSearchCV: 6\n"
     ]
    }
   ],
   "source": [
    "all_configs = []\n",
    "for config_dict in classifier_configs:\n",
    "    all_configs.append(config_dict)\n",
    "\n",
    "print(f\"\\nNumber of different base classifier configurations for RandomizedSearchCV: {len(all_configs)}\")"
   ]
  },
  {
   "cell_type": "code",
   "execution_count": 97,
   "id": "e3fecbfd",
   "metadata": {},
   "outputs": [],
   "source": [
    "# Define RandomizedSearchCV for the inner loop\n",
    "rs = RandomizedSearchCV(\n",
    "    estimator=model_pipeline,\n",
    "    param_distributions=all_configs,\n",
    "    n_iter=50, # Number of parameter settings that are sampled. Adjust based on computational budget.\n",
    "    n_jobs=-1, # Use all available CPU cores\n",
    "    cv=StratifiedKFold(n_splits=5, shuffle=True, random_state=42), # Inner CV for hyperparameter tuning\n",
    "    scoring='f1_weighted', # F1-score weighted by support for multi-class\n",
    "    random_state=42, # For reproducibility of random sampling\n",
    ")"
   ]
  },
  {
   "cell_type": "code",
   "execution_count": 98,
   "id": "3ef6cb22",
   "metadata": {},
   "outputs": [
    {
     "name": "stdout",
     "output_type": "stream",
     "text": [
      "\n",
      "Starting nested cross-validation (this may take some time)...\n"
     ]
    },
    {
     "name": "stderr",
     "output_type": "stream",
     "text": [
      "[Parallel(n_jobs=-1)]: Using backend LokyBackend with 16 concurrent workers.\n",
      "[Parallel(n_jobs=-1)]: Done   2 out of   5 | elapsed:   39.8s remaining:   59.7s\n"
     ]
    },
    {
     "name": "stdout",
     "output_type": "stream",
     "text": [
      "\n",
      "Nested cross-validation complete.\n",
      "Cross-validation F1-weighted scores for each fold: [1.         1.         0.97350018 1.         0.97368421]\n",
      "Mean F1-weighted score across outer folds: 0.9894\n",
      "Standard deviation of F1-weighted score across outer folds: 0.0129\n"
     ]
    },
    {
     "name": "stderr",
     "output_type": "stream",
     "text": [
      "[Parallel(n_jobs=-1)]: Done   5 out of   5 | elapsed:   40.3s finished\n"
     ]
    }
   ],
   "source": [
    "# Implement the outer loop using cross_validate (Nested Cross-Validation)\n",
    "print(\"\\nStarting nested cross-validation (this may take some time)...\")\n",
    "outer_cv = StratifiedKFold(n_splits=5, shuffle=True, random_state=42) # Outer CV for robust model evaluation\n",
    "\n",
    "scores = cross_validate(rs, X_train, y_train,\n",
    "                        scoring='f1_weighted', # Consistent F1-weighted score for evaluation\n",
    "                        cv=outer_cv,\n",
    "                        return_estimator=True, # Important to get the best estimator from each inner fold\n",
    "                        verbose=3,\n",
    "                        n_jobs=-1) # Use parallel processing for outer folds if possible\n",
    "\n",
    "print(\"\\nNested cross-validation complete.\")\n",
    "print(\"Cross-validation F1-weighted scores for each fold:\", scores['test_score'])\n",
    "print(f\"Mean F1-weighted score across outer folds: {np.mean(scores['test_score']):.4f}\")\n",
    "print(f\"Standard deviation of F1-weighted score across outer folds: {np.std(scores['test_score']):.4f}\")"
   ]
  },
  {
   "cell_type": "code",
   "execution_count": 100,
   "id": "e6265995",
   "metadata": {},
   "outputs": [
    {
     "name": "stdout",
     "output_type": "stream",
     "text": [
      "SMOTE()\n",
      "PCA(n_components=0.8)\n",
      "KNeighborsClassifier(n_neighbors=9, weights='distance') {'algorithm': 'auto', 'leaf_size': 30, 'metric': 'minkowski', 'metric_params': None, 'n_jobs': None, 'n_neighbors': 9, 'p': 2, 'weights': 'distance'}\n",
      "1.0\n",
      "----------\n",
      "SMOTE()\n",
      "PCA(n_components=0.8)\n",
      "KNeighborsClassifier(weights='distance') {'algorithm': 'auto', 'leaf_size': 30, 'metric': 'minkowski', 'metric_params': None, 'n_jobs': None, 'n_neighbors': 5, 'p': 2, 'weights': 'distance'}\n",
      "1.0\n",
      "----------\n",
      "SMOTE()\n",
      "PCA(n_components=0.8)\n",
      "KNeighborsClassifier(n_neighbors=3, weights='distance') {'algorithm': 'auto', 'leaf_size': 30, 'metric': 'minkowski', 'metric_params': None, 'n_jobs': None, 'n_neighbors': 3, 'p': 2, 'weights': 'distance'}\n",
      "0.9735001840264998\n",
      "----------\n",
      "SMOTE()\n",
      "PCA(n_components=0.8)\n",
      "KNeighborsClassifier(n_neighbors=3, weights='distance') {'algorithm': 'auto', 'leaf_size': 30, 'metric': 'minkowski', 'metric_params': None, 'n_jobs': None, 'n_neighbors': 3, 'p': 2, 'weights': 'distance'}\n",
      "1.0\n",
      "----------\n",
      "SMOTE()\n",
      "PCA(n_components=0.8)\n",
      "KNeighborsClassifier(weights='distance') {'algorithm': 'auto', 'leaf_size': 30, 'metric': 'minkowski', 'metric_params': None, 'n_jobs': None, 'n_neighbors': 5, 'p': 2, 'weights': 'distance'}\n",
      "0.9736842105263158\n",
      "----------\n"
     ]
    }
   ],
   "source": [
    "for index, estimator in enumerate(scores['estimator']):\n",
    "    print(estimator.best_estimator_.get_params()['sampler'])\n",
    "    print(estimator.best_estimator_.get_params()['dim_reduction'])\n",
    "    print(estimator.best_estimator_.get_params()['classifier'],estimator.best_estimator_.get_params()['classifier'].get_params())\n",
    "    print(scores['test_score'][index])\n",
    "    print('-'*10)"
   ]
  },
  {
   "cell_type": "code",
   "execution_count": 102,
   "id": "8d859491",
   "metadata": {},
   "outputs": [
    {
     "name": "stdout",
     "output_type": "stream",
     "text": [
      "Refining model based on the best performing classifier from nested CV: KNeighborsClassifier\n"
     ]
    }
   ],
   "source": [
    "best_overall_f1_idx = np.argmax(scores['test_score'])\n",
    "best_overall_estimator_pipeline = scores['estimator'][best_overall_f1_idx].best_estimator_\n",
    "\n",
    "# Get the type of the best classifier for targeted refinement\n",
    "best_classifier_type = type(best_overall_estimator_pipeline.named_steps['classifier'])\n",
    "print(f\"Refining model based on the best performing classifier from nested CV: {best_classifier_type.__name__}\")"
   ]
  },
  {
   "cell_type": "code",
   "execution_count": 113,
   "id": "4bd38487",
   "metadata": {},
   "outputs": [],
   "source": [
    "# Define a specific pipeline for refinement using the structure and best classifier found\n",
    "refined_model_pipeline = Imbpipeline([\n",
    "    ('preprocessor', preprocessor),\n",
    "    ('sampler', SMOTE()),\n",
    "    ('dim_reduction', PCA(n_components=0.8)),\n",
    "    ('classifier', best_overall_estimator_pipeline.named_steps['classifier']) # Use the actual best classifier instance\n",
    "])\n",
    "\n",
    "# Define a narrower parameter search space for refinement based on the best classifier's type\n",
    "refinement_params = {\n",
    "    'classifier__n_neighbors': [3,4],\n",
    "    'dim_reduction__n_components': [0.7, 0.8, 0.9]\n",
    "}"
   ]
  },
  {
   "cell_type": "code",
   "execution_count": 114,
   "id": "90a6f024",
   "metadata": {},
   "outputs": [
    {
     "name": "stderr",
     "output_type": "stream",
     "text": [
      "c:\\Users\\USER\\.virtualenvs\\star-type-prediction-N8362Ct2\\Lib\\site-packages\\sklearn\\model_selection\\_search.py:317: UserWarning: The total space of parameters 6 is smaller than n_iter=30. Running 6 iterations. For exhaustive searches, use GridSearchCV.\n",
      "  warnings.warn(\n"
     ]
    },
    {
     "name": "stdout",
     "output_type": "stream",
     "text": [
      "Fitting 15 folds for each of 6 candidates, totalling 90 fits\n",
      "\n",
      "Best parameters after refinement: {'dim_reduction__n_components': 0.9, 'classifier__n_neighbors': 4}\n",
      "Best F1-weighted score after refinement (on CV folds): 0.9930\n"
     ]
    }
   ],
   "source": [
    "rs_best = RandomizedSearchCV(\n",
    "    estimator=refined_model_pipeline,\n",
    "    param_distributions=refinement_params,\n",
    "    cv=RepeatedStratifiedKFold(n_splits=5, n_repeats=3, random_state=42),\n",
    "    n_iter=30, # More iterations for refinement search\n",
    "    scoring='f1_weighted',\n",
    "    random_state=42,\n",
    "    n_jobs=-1,\n",
    "    verbose=1\n",
    ")\n",
    "rs_best.fit(X_train, y_train)\n",
    "\n",
    "print(f\"\\nBest parameters after refinement: {rs_best.best_params_}\")\n",
    "print(f\"Best F1-weighted score after refinement (on CV folds): {rs_best.best_score_:.4f}\")\n",
    "final_best_model = rs_best.best_estimator_"
   ]
  },
  {
   "cell_type": "code",
   "execution_count": 115,
   "id": "5f31afa3",
   "metadata": {},
   "outputs": [
    {
     "name": "stdout",
     "output_type": "stream",
     "text": [
      "\n",
      "--- 8. Final Evaluation and Visualization ---\n",
      "Final Accuracy Score on the held-out test set: 0.9792\n",
      "Final Precision Score (weighted) on the held-out test set: 0.9815\n",
      "Final Recall Score (weighted) on the held-out test set: 0.9792\n",
      "Final F1-score (weighted) on the held-out test set: 0.9791\n"
     ]
    }
   ],
   "source": [
    "# --- 8. Final Evaluation and Visualization ---\n",
    "print(\"\\n--- 8. Final Evaluation and Visualization ---\")\n",
    "\n",
    "y_test_pred_final = final_best_model.predict(X_test)\n",
    "\n",
    "# Calculate scores using 'weighted' average for multi-class classification\n",
    "final_accuracy_score = accuracy_score(y_test, y_test_pred_final)\n",
    "final_precision_score = precision_score(y_test, y_test_pred_final, average='weighted', zero_division=0)\n",
    "final_recall_score = recall_score(y_test, y_test_pred_final, average='weighted', zero_division=0)\n",
    "final_f1_score = f1_score(y_test, y_test_pred_final, average='weighted', zero_division=0)\n",
    "\n",
    "\n",
    "\n",
    "\n",
    "print(f\"Final Accuracy Score on the held-out test set: {final_accuracy_score:.4f}\")\n",
    "print(f\"Final Precision Score (weighted) on the held-out test set: {final_precision_score:.4f}\")\n",
    "print(f\"Final Recall Score (weighted) on the held-out test set: {final_recall_score:.4f}\")\n",
    "print(f\"Final F1-score (weighted) on the held-out test set: {final_f1_score:.4f}\")"
   ]
  },
  {
   "cell_type": "code",
   "execution_count": 116,
   "id": "5b8ad5c7",
   "metadata": {},
   "outputs": [
    {
     "name": "stdout",
     "output_type": "stream",
     "text": [
      "\n",
      "Classification Report on Test Set (Final Model):\n",
      "              precision    recall  f1-score   support\n",
      "\n",
      "           0       1.00      1.00      1.00         8\n",
      "           1       1.00      1.00      1.00         8\n",
      "           2       1.00      1.00      1.00         8\n",
      "           3       0.89      1.00      0.94         8\n",
      "           4       1.00      0.88      0.93         8\n",
      "           5       1.00      1.00      1.00         8\n",
      "\n",
      "    accuracy                           0.98        48\n",
      "   macro avg       0.98      0.98      0.98        48\n",
      "weighted avg       0.98      0.98      0.98        48\n",
      "\n"
     ]
    }
   ],
   "source": [
    "print(\"\\nClassification Report on Test Set (Final Model):\")\n",
    "print(classification_report(y_test, y_test_pred_final, zero_division=0))"
   ]
  },
  {
   "cell_type": "code",
   "execution_count": 117,
   "id": "4afac465",
   "metadata": {},
   "outputs": [
    {
     "name": "stdout",
     "output_type": "stream",
     "text": [
      "\n",
      "Confusion Matrix for the Final Model:\n"
     ]
    },
    {
     "data": {
      "image/png": "[encoded data removed]",
      "text/plain": [
       "<Figure size 640x480 with 2 Axes>"
      ]
     },
     "metadata": {},
     "output_type": "display_data"
    }
   ],
   "source": [
    "# Confusion Matrix for the final model\n",
    "print(\"\\nConfusion Matrix for the Final Model:\")\n",
    "# Display labels are automatically inferred from y_test by ConfusionMatrixDisplay\n",
    "cm_final = confusion_matrix(y_test, y_test_pred_final, labels=final_best_model.classes_)\n",
    "disp_final = ConfusionMatrixDisplay(confusion_matrix=cm_final, display_labels=final_best_model.classes_)\n",
    "disp_final.plot(cmap=plt.cm.Blues)\n",
    "plt.title(\"Final Model Confusion Matrix on Test Set\")\n",
    "plt.show()\n"
   ]
  },
  {
   "cell_type": "code",
   "execution_count": 120,
   "id": "a96bb8b3",
   "metadata": {},
   "outputs": [
    {
     "name": "stdout",
     "output_type": "stream",
     "text": [
      "\n",
      "Generating Learning Curve...\n"
     ]
    },
    {
     "data": {
      "image/png": "[encoded data removed]",
      "text/plain": [
       "<Figure size 1200x700 with 1 Axes>"
      ]
     },
     "metadata": {},
     "output_type": "display_data"
    }
   ],
   "source": [
    "import warnings\n",
    "warnings.filterwarnings('ignore')\n",
    "\n",
    "# Learning Curve\n",
    "print(\"\\nGenerating Learning Curve...\")\n",
    "train_sizes, train_scores, test_scores = learning_curve(\n",
    "    final_best_model,\n",
    "    X=X_train,\n",
    "    y=y_train,\n",
    "    train_sizes=np.linspace(0.1, 1.0, 10), # 10 different sizes\n",
    "    cv=StratifiedKFold(n_splits=5, shuffle=True, random_state=42),\n",
    "    n_jobs=-1,\n",
    "    scoring='f1_weighted', # Use weighted F1 for multi-class\n",
    "    shuffle=True,\n",
    "    random_state=42\n",
    ")\n",
    "\n",
    "train_mean = np.mean(train_scores, axis=1)\n",
    "train_std = np.std(train_scores, axis=1)\n",
    "test_mean = np.mean(test_scores, axis=1)\n",
    "test_std = np.std(test_scores, axis=1)\n",
    "\n",
    "plt.figure(figsize=(12, 7))\n",
    "plt.plot(train_sizes, train_mean, color='blue', marker='o', markersize=5, label='Training F1-weighted score')\n",
    "plt.fill_between(train_sizes, train_mean + train_std, train_mean - train_std, alpha=0.15, color='blue')\n",
    "plt.plot(train_sizes, test_mean, color='green', linestyle='--', marker='s', markersize=5, label='Validation F1-weighted score')\n",
    "plt.fill_between(train_sizes, test_mean + test_std, test_mean - test_std, alpha=0.15, color='green')\n",
    "plt.grid()\n",
    "plt.xlabel('Training set size')\n",
    "plt.ylabel('F1-weighted score')\n",
    "plt.title('Learning Curve for Final Model')\n",
    "plt.legend(loc='lower right')\n",
    "plt.ylim([0.0, 1.05]) # Adjusted y-limit\n",
    "plt.show()\n",
    "\n",
    "\n"
   ]
  },
  {
   "cell_type": "code",
   "execution_count": 112,
   "id": "ddd55017",
   "metadata": {},
   "outputs": [
    {
     "data": {
      "image/png": "[encoded data removed]",
      "text/plain": [
       "<Figure size 1200x700 with 1 Axes>"
      ]
     },
     "metadata": {},
     "output_type": "display_data"
    }
   ],
   "source": [
    "param_to_plot = 'n_neighbors'\n",
    "param_range_vals = np.unique(np.array(refinement_params['classifier__n_neighbors']))\n",
    "param_name_in_pipeline = 'classifier__n_neighbors'\n",
    "    \n",
    "train_scores, test_scores = validation_curve(\n",
    "    final_best_model,\n",
    "    X=X_train,\n",
    "    y=y_train,\n",
    "    param_name=param_name_in_pipeline,\n",
    "    param_range=param_range_vals,\n",
    "    cv=StratifiedKFold(n_splits=5, shuffle=True, random_state=42),\n",
    "    n_jobs=-1,\n",
    "    scoring='f1_weighted' # Use weighted F1 for multi-class\n",
    ")\n",
    "\n",
    "train_mean = np.mean(train_scores, axis=1)\n",
    "train_std = np.std(train_scores, axis=1)\n",
    "test_mean = np.mean(test_scores, axis=1)\n",
    "test_std = np.std(test_scores, axis=1)\n",
    "\n",
    "plt.figure(figsize=(12, 7))\n",
    "plt.plot(param_range_vals, train_mean, color='blue', marker='o', markersize=5, label='Training F1-weighted score')\n",
    "plt.fill_between(param_range_vals, train_mean + train_std, train_mean - train_std, alpha=0.15, color='blue')\n",
    "plt.plot(param_range_vals, test_mean, color='green', linestyle='--', marker='s', markersize=5, label='Validation F1-weighted score')\n",
    "plt.fill_between(param_range_vals, test_mean + test_std, test_mean - test_std, alpha=0.15, color='green')\n",
    "plt.grid()\n",
    "plt.xlabel(f'Parameter: {param_to_plot}')\n",
    "plt.ylabel('F1-weighted score')\n",
    "plt.title(f'Validation Curve for {best_classifier_type.__name__} ({param_to_plot})')\n",
    "plt.legend(loc='lower right')\n",
    "plt.ylim([0.0, 1.0])\n",
    "plt.show()"
   ]
  },
  {
   "cell_type": "code",
   "execution_count": null,
   "id": "41318e18",
   "metadata": {},
   "outputs": [],
   "source": []
  }
 ],
 "metadata": {
  "kernelspec": {
   "display_name": "star-type-prediction-N8362Ct2",
   "language": "python",
   "name": "python3"
  },
  "language_info": {
   "codemirror_mode": {
    "name": "ipython",
    "version": 3
   },
   "file_extension": ".py",
   "mimetype": "text/x-python",
   "name": "python",
   "nbconvert_exporter": "python",
   "pygments_lexer": "ipython3",
   "version": "3.13.2"
  }
 },
 "nbformat": 4,
 "nbformat_minor": 5
}
